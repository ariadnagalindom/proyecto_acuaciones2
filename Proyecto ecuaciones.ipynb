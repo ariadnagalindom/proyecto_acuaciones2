{
 "cells": [
  {
   "cell_type": "markdown",
   "metadata": {},
   "source": [
    "# Proyecto en equipos"
   ]
  },
  {
   "cell_type": "code",
   "execution_count": 1,
   "metadata": {},
   "outputs": [],
   "source": [
    "import matplotlib.pyplot as plt\n",
    "%matplotlib inline\n",
    "import numpy as np"
   ]
  },
  {
   "cell_type": "code",
   "execution_count": 2,
   "metadata": {},
   "outputs": [],
   "source": [
    "#importamos la funcion para resolver ecuaciones diferenciales\n",
    "from scipy.integrate import odeint"
   ]
  },
  {
   "cell_type": "markdown",
   "metadata": {},
   "source": [
    "## P1 MASA/RESORTE\n",
    "<img style=\"float: center;\" src=\"./masaresorte.png\" width=\"800px\" height=\"100px\" />\n",
    "\n",
    "### 1.1 Modelo matemático\n",
    "\n",
    "Las fuerzas que ejercen las masas y los resortes las podemos ver representadas de la siguiente manera:\n",
    "$$F_{m_1}=-F_{r_1}-F_{r_2}$$\n",
    "$$F_{m_2}=-F_{r_2}+f(t)$$\n",
    "Sustituyendo podemos obtener el siguiente sistema:\n",
    "$$m_1 \\frac{d^2{x}}{dt^2} = -k_1 x-k_2 (x-y)$$\n",
    "$$m_2 \\frac{d^2{y}}{dt^2} = -k_2(y-x) + f(t)$$\n",
    "\n",
    "$$\\frac{d^2{x}}{dt^2} = \\frac{-k_1 x-k_2 (x-y)}{m_1}$$\n",
    "$$\\frac{d^2{y}}{dt^2} = \\frac{-k_2(y-x) + f(t)}{m_2}$$\n",
    "Debemos hacer un cambio de variables porque odeint no acepta ecuaciones diferenciales de segundo grado, por lo que podemos realizar un cambio de variables o simplemente usar una ecuacion ya conocida:\n",
    "$$\\frac{dx(t)}{dt} = \\omega_{0}[- A \\sin(\\omega_{0} t) + B\\cos(\\omega_{0}t)]$$"
   ]
  },
  {
   "cell_type": "markdown",
   "metadata": {},
   "source": [
    "### 1.2 Operaciones"
   ]
  },
  {
   "cell_type": "code",
   "execution_count": null,
   "metadata": {},
   "outputs": [],
   "source": [
    "# Definimos los parámetros k, m y c\n",
    "k1, m1, c = 3, 1, 0.5\n",
    "\n",
    "# Función f(y,t) que vamos a integrar\n",
    "def amortiguado(y,t,k,m,c):\n",
    "    y1 = y[0]\n",
    "    y2 = y[1]\n",
    "    return np.array([y2, -(k/m)*y1-(c/m)*y2])\n",
    "\n",
    "# Condiciones iniciales\n",
    "y0 = np.array([1,1])\n",
    "\n",
    "# Especificamos los puntos de tiempo donde queremos la solución\n",
    "t = np.linspace(0, 30, 300)\n",
    "\n",
    "# Solución numérica\n",
    "y = odeint(amortiguado, y0, t, args=(k,m,c))"
   ]
  },
  {
   "cell_type": "markdown",
   "metadata": {},
   "source": [
    "### 1.3 Graficas"
   ]
  },
  {
   "cell_type": "code",
   "execution_count": null,
   "metadata": {},
   "outputs": [],
   "source": []
  },
  {
   "cell_type": "markdown",
   "metadata": {},
   "source": [
    "### 1.4 Interpretación"
   ]
  },
  {
   "cell_type": "code",
   "execution_count": null,
   "metadata": {},
   "outputs": [],
   "source": []
  },
  {
   "cell_type": "markdown",
   "metadata": {},
   "source": [
    "## P2 CRECIMIENTO POBLACIONAL\n",
    "#### $$\\frac{dx}{dt}=0.2x-0.005xy$$\n",
    "#### $$\\frac{dy}{dt}=-0.5y+0.01xy$$ \n",
    "#### donde $x(0)=70$ y $y(0)=30$\n",
    "### 2.1 Modelo matemático\n",
    "La ecuación diferencial inicial tiene *solución analítica*, \n",
    "$$ x(t) = \\frac{1}{1+ (\\frac{1}{x_{0}}- 1) e^{-rt}}.$$"
   ]
  },
  {
   "cell_type": "markdown",
   "metadata": {},
   "source": [
    "### 2.2 Operaciones"
   ]
  },
  {
   "cell_type": "code",
   "execution_count": 3,
   "metadata": {},
   "outputs": [],
   "source": [
    "# Definimos el campo de la ecuación diferencial\n",
    "def campo1(x,y):\n",
    "    return 0.2*x - 0.005*x*y\n",
    "def campo2(x,y):\n",
    "    return -0.5*y +0.01*x*y\n",
    "#condiciones iniciales\n",
    "x0 = 70\n",
    "y0 = 30\n",
    "# Vector de tiempo\n",
    "tt = np.linspace(0, 10, 100)\n",
    "# Solución\n",
    "xx = odeint(campo1, x0, tt, args=())\n",
    "yy = odeint(campo2, y0, tt, args=())"
   ]
  },
  {
   "cell_type": "code",
   "execution_count": 4,
   "metadata": {},
   "outputs": [
    {
     "data": {
      "text/plain": [
       "array([[30.        ],\n",
       "       [29.99897962],\n",
       "       [29.99591819],\n",
       "       [29.99081488],\n",
       "       [29.98366796],\n",
       "       [29.97447565],\n",
       "       [29.96323475],\n",
       "       [29.94994194],\n",
       "       [29.9345931 ],\n",
       "       [29.91718358],\n",
       "       [29.89770804],\n",
       "       [29.87616049],\n",
       "       [29.85253435],\n",
       "       [29.82682231],\n",
       "       [29.79901654],\n",
       "       [29.76910841],\n",
       "       [29.73708854],\n",
       "       [29.70294716],\n",
       "       [29.66667373],\n",
       "       [29.62825706],\n",
       "       [29.58768522],\n",
       "       [29.54494565],\n",
       "       [29.50002509],\n",
       "       [29.45290954],\n",
       "       [29.40358435],\n",
       "       [29.35203416],\n",
       "       [29.29824281],\n",
       "       [29.24219349],\n",
       "       [29.18386865],\n",
       "       [29.12325   ],\n",
       "       [29.06031848],\n",
       "       [28.99505424],\n",
       "       [28.92743665],\n",
       "       [28.85744432],\n",
       "       [28.78505503],\n",
       "       [28.71024579],\n",
       "       [28.63299277],\n",
       "       [28.55327131],\n",
       "       [28.47105593],\n",
       "       [28.38632024],\n",
       "       [28.29903698],\n",
       "       [28.20917802],\n",
       "       [28.11671433],\n",
       "       [28.02161597],\n",
       "       [27.923852  ],\n",
       "       [27.82339058],\n",
       "       [27.72019888],\n",
       "       [27.61424312],\n",
       "       [27.50548846],\n",
       "       [27.39389905],\n",
       "       [27.279438  ],\n",
       "       [27.16206735],\n",
       "       [27.04174808],\n",
       "       [26.91844001],\n",
       "       [26.79210184],\n",
       "       [26.66269114],\n",
       "       [26.5301643 ],\n",
       "       [26.39447654],\n",
       "       [26.25558183],\n",
       "       [26.11343286],\n",
       "       [25.96798104],\n",
       "       [25.81917648],\n",
       "       [25.66696796],\n",
       "       [25.51130288],\n",
       "       [25.35212723],\n",
       "       [25.18938563],\n",
       "       [25.02302122],\n",
       "       [24.85297564],\n",
       "       [24.67918902],\n",
       "       [24.50159991],\n",
       "       [24.32014527],\n",
       "       [24.13476043],\n",
       "       [23.94537905],\n",
       "       [23.75193307],\n",
       "       [23.55435271],\n",
       "       [23.35256636],\n",
       "       [23.14650063],\n",
       "       [22.93608017],\n",
       "       [22.72122775],\n",
       "       [22.50186418],\n",
       "       [22.27790822],\n",
       "       [22.04927661],\n",
       "       [21.81588394],\n",
       "       [21.5776426 ],\n",
       "       [21.33446278],\n",
       "       [21.08625239],\n",
       "       [20.832917  ],\n",
       "       [20.5743598 ],\n",
       "       [20.31048151],\n",
       "       [20.0411803 ],\n",
       "       [19.76635177],\n",
       "       [19.48588886],\n",
       "       [19.19968181],\n",
       "       [18.9076181 ],\n",
       "       [18.60958231],\n",
       "       [18.30545604],\n",
       "       [17.99511793],\n",
       "       [17.6784435 ],\n",
       "       [17.35530513],\n",
       "       [17.02557193]])"
      ]
     },
     "execution_count": 4,
     "metadata": {},
     "output_type": "execute_result"
    }
   ],
   "source": [
    "xx\n",
    "yy"
   ]
  },
  {
   "cell_type": "markdown",
   "metadata": {},
   "source": [
    "### 3.3 Graficas"
   ]
  },
  {
   "cell_type": "code",
   "execution_count": 5,
   "metadata": {},
   "outputs": [
    {
     "data": {
      "text/plain": [
       "Text(0, 0.5, '$habitantes$')"
      ]
     },
     "execution_count": 5,
     "metadata": {},
     "output_type": "execute_result"
    },
    {
     "data": {
      "image/png": "[encoded data removed]",
      "text/plain": [
       "<Figure size 576x432 with 1 Axes>"
      ]
     },
     "metadata": {
      "needs_background": "light"
     },
     "output_type": "display_data"
    }
   ],
   "source": [
    "# Gráfico de la solución\n",
    "plt.figure(figsize=(8,6))\n",
    "plt.plot(tt,xx, label='presas')\n",
    "plt.plot(tt,yy, label='predador')\n",
    "plt.grid()\n",
    "plt.legend(loc='best')\n",
    "plt.xlabel('$tiempo$')\n",
    "plt.ylabel('$habitantes$')"
   ]
  },
  {
   "cell_type": "markdown",
   "metadata": {},
   "source": [
    "### 2.4 Interpretación\n",
    "\n",
    "Los depredadores se encuentran disminuyendo mientras que las presas estan creciendo exponencialmente. Es probable que estas especies tengan algun tipo de competencia en los factores y como hay más presas que predadores acaparan los recursos que dejan a los depredadores en decrecimiento."
   ]
  },
  {
   "cell_type": "markdown",
   "metadata": {},
   "source": [
    "## P3 VACIADO DE TANQUES\n",
    "<img style=\"float: center;\" src=\"./tanques.png\" width=\"1000px\" height=\"750px\" />\n",
    "\n",
    "### 3.1 Modelo matemático\n",
    "Nos basamos en la siguiente ecuacion\n",
    "$$\\frac{dA}{dt}=r_1 c_1 -r_0 c_0$$\n",
    "Al tanque $A$ entran $4 l/min$ de una solucion con una concentracion de $2 kg/l$, tambien salen al tanque $B$ $4 l/min$, mientras se salen $ l/min$ por otra llave del tanque $A$. De otra llave entra una solucion al tanque $B$ con una concentracion de $1 kg/l$ con un caudal de $1 l/min$, de este mismo tanque sale hacia el tanque $A$ $1 l/min$, mientras $4 l/min$ salen por otra llave.\n",
    "$$\\frac{dx}{dt}=4\\frac{l}{min}*2\\frac{kg}{l}+1\\frac{l}{min}*\\frac{y}{50l}-4\\frac{l}{min}*\\frac{x}{50l}-1\\frac{l}{min}*\\frac{x}{50l}$$\n",
    "\n",
    "$$\\frac{dy}{dt}=1\\frac{l}{min}*1\\frac{kg}{l}+4\\frac{l}{min}*\\frac{x}{50l}-1\\frac{l}{min}*\\frac{y}{50l}-4\\frac{l}{min}*\\frac{y}{50l}$$\n",
    "Si vamos uniendo terminos:\n",
    "$$\\frac{dx}{dt}=8+\\frac{y}{50}-\\frac{2}{25}x-\\frac{1}{50}x$$\n",
    "$$\\frac{dy}{dt}=1+\\frac{2}{25}x-\\frac{1}{50}y-\\frac{2}{25}y$$\n",
    "La minima expresion seria:\n",
    "$$\\frac{dx}{dt}=8+\\frac{y}{50}-\\frac{1}{10}x$$\n",
    "$$\\frac{dy}{dt}=1+\\frac{2}{25}x-\\frac{1}{10}y$$"
   ]
  },
  {
   "cell_type": "markdown",
   "metadata": {},
   "source": [
    "### 3.2 Operaciones"
   ]
  },
  {
   "cell_type": "code",
   "execution_count": 6,
   "metadata": {},
   "outputs": [],
   "source": [
    "# Definimos el campo de la ecuación diferencial\n",
    "def tanque1(x,y):\n",
    "    return 8 + (y/50) - (x/10)\n",
    "def tanque2(x,y):\n",
    "    return 1 + (2/25)*x  -(y/10)\n",
    "#condiciones iniciales\n",
    "fx = 1\n",
    "fy = 5\n",
    "# Vector de tiempo\n",
    "tt = np.linspace(0, 30, 100)\n",
    "# Solución\n",
    "xx = odeint(campo1, fx, tt, args=())\n",
    "yy = odeint(campo2, fy, tt, args=())"
   ]
  },
  {
   "cell_type": "markdown",
   "metadata": {},
   "source": [
    "### 3.3 Graficas"
   ]
  },
  {
   "cell_type": "code",
   "execution_count": 7,
   "metadata": {},
   "outputs": [
    {
     "data": {
      "text/plain": [
       "Text(0, 0.5, '$solucion$')"
      ]
     },
     "execution_count": 7,
     "metadata": {},
     "output_type": "execute_result"
    },
    {
     "data": {
      "image/png": "[encoded data removed]",
      "text/plain": [
       "<Figure size 576x432 with 1 Axes>"
      ]
     },
     "metadata": {
      "needs_background": "light"
     },
     "output_type": "display_data"
    }
   ],
   "source": [
    "# Gráfico de la solución\n",
    "plt.figure(figsize=(8,6))\n",
    "plt.plot(tt,xx, label='nivel tanques')\n",
    "plt.plot(tt,yy, label='concentracion de solucion')\n",
    "plt.grid()\n",
    "plt.legend(loc='best')\n",
    "plt.xlabel('$tiempo$')\n",
    "plt.ylabel('$solucion$')"
   ]
  },
  {
   "cell_type": "markdown",
   "metadata": {},
   "source": [
    "### 3.4 Interpretación\n",
    " Por las cantidades que entran y salen podemos saber que el nivel de solucion se mantiene constante en todo momento y la solución se va disolviendo con la mezcla que va entrando."
   ]
  },
  {
   "cell_type": "markdown",
   "metadata": {},
   "source": [
    "## P4 CIRCUITO ELECTRICO\n",
    "### 4.1 Modelo matemático\n",
    "Nos basamos en el siguiente modelo que ya sabemos que describe el comportamiento de los circuitos:\n",
    "$$L \\frac{di}{dt} + Ri + \\frac{1}{c} \\int^t_0 i(\\tau)d\\tau = e(t)$$\n",
    "las cargas de las mallas quedarian:\n",
    "\n",
    "malla 1 $\\rightarrow e- v_1 -v_2 =0$\n",
    "\n",
    "malla 2 $\\rightarrow - v_3 -v_4 - v_5 -v_6=0$\n",
    "\n",
    "sustituyendo tendriamos:\n",
    "$$e -L\\frac{dI_1}{dt} - R_2(I_1 -I_2) =0$$\n",
    "$$-R_2(I_2 -I_1) -L_2\\frac{dI_2}{dt} -\\frac{1}{C_1} \\int^t_0 I_2(\\tau)d\\tau -R_1(I_2)$$\n",
    "al hacer un cambio de variables nos quedaria:\n",
    "$$x_1 = q_1$$\n",
    "$$x_2 = \\dot{q_1}$$\n",
    "$$x_3 = q_2$$\n",
    "$$x_4 = \\dot{q_2}$$\n",
    "\n",
    "$$\\dot{x_1} = x_2$$\n",
    "$$\\dot{x_2}=\\frac{-10cos(60t)+90(x_2-x_4)}{2}$$\n",
    "$$\\dot{x_3} = x_4$$\n",
    "$$\\dot{x_4} = -4x_3- 20x_4 -90(x_4 -x_2)$$\n"
   ]
  },
  {
   "cell_type": "markdown",
   "metadata": {},
   "source": [
    "### 4.2 Operaciones"
   ]
  },
  {
   "cell_type": "code",
   "execution_count": null,
   "metadata": {},
   "outputs": [],
   "source": [
    "# Definimos el campo de la ecuación diferencial\n",
    "def dx1(x1, x2, x3, x4):\n",
    "    return x2\n",
    "def dx2(x1, x2, x3, x4, t):\n",
    "    return (-10*cos(60t)+90(x2-x4))/2\n",
    "def dx3(x1, x2, x3, x4):\n",
    "    return x4\n",
    "def dx4(x1, x2, x3, x4):\n",
    "    return -4*x3 -20*x4 -90*(x4-x2)\n",
    "#condiciones iniciales\n",
    "fx = 0\n",
    "fy = 0\n",
    "# Vector de tiempo\n",
    "tt = np.linspace(0, 1, 100)\n",
    "# Solución\n",
    "q1 = odeint(campo1, fx, tt, args=())\n",
    "q3 = odeint(campo2, fy, tt, args=())"
   ]
  },
  {
   "cell_type": "markdown",
   "metadata": {},
   "source": [
    "### 4.3 Graficas"
   ]
  },
  {
   "cell_type": "code",
   "execution_count": null,
   "metadata": {},
   "outputs": [],
   "source": []
  },
  {
   "cell_type": "markdown",
   "metadata": {},
   "source": [
    "### 4.4 Interpretación"
   ]
  }
 ],
 "metadata": {
  "kernelspec": {
   "display_name": "Python 3",
   "language": "python",
   "name": "python3"
  },
  "language_info": {
   "codemirror_mode": {
    "name": "ipython",
    "version": 3
   },
   "file_extension": ".py",
   "mimetype": "text/x-python",
   "name": "python",
   "nbconvert_exporter": "python",
   "pygments_lexer": "ipython3",
   "version": "3.7.3"
  }
 },
 "nbformat": 4,
 "nbformat_minor": 2
}
